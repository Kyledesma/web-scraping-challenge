{
 "cells": [
  {
   "cell_type": "code",
   "execution_count": 1,
   "metadata": {},
   "outputs": [],
   "source": [
    "#Import Dependencies\n",
    "from bs4 import BeautifulSoup\n",
    "import requests\n",
    "import pymongo\n",
    "from splinter import Browser\n",
    "import time\n",
    "import pandas as pd\n",
    "from splinter.exceptions import ElementDoesNotExist"
   ]
  },
  {
   "cell_type": "code",
   "execution_count": 3,
   "metadata": {},
   "outputs": [],
   "source": [
    "# Initialize PyMongo to work with MongoDBs\n",
    "conn = 'mongodb://localhost:27017'\n",
    "client = pymongo.MongoClient(conn)"
   ]
  },
  {
   "cell_type": "code",
   "execution_count": 83,
   "metadata": {},
   "outputs": [],
   "source": [
    "executable_path = {'executable_path': 'C:\\\\DS Bootcamp\\\\gt-inc-data-pt-05-2020-u-c\\\\chromedriver.exe'}\n",
    "browser = Browser('chrome', **executable_path, headless=False)"
   ]
  },
  {
   "cell_type": "code",
   "execution_count": 130,
   "metadata": {},
   "outputs": [],
   "source": [
    "# Define database and collection\n",
    "db = client.mars_db\n",
    "collection = db.articles"
   ]
  },
  {
   "cell_type": "code",
   "execution_count": 5,
   "metadata": {},
   "outputs": [],
   "source": [
    "#Standard method\n",
    "# URL of page to be scraped\n",
    "url = 'https://mars.nasa.gov/news/?page=0&per_page=40&order=publish_date+desc%2Ccreated_at+desc&search=&category=19%2C165%2C184%2C204&blank_scope=Latest'\n",
    "\n",
    "\n",
    "# Retrieve page with the requests module\n",
    "response = requests.get(url)\n",
    "\n",
    "# Create BeautifulSoup object; parse with 'lxml'\n",
    "soup = BeautifulSoup(response.text, 'lxml')"
   ]
  },
  {
   "cell_type": "code",
   "execution_count": 126,
   "metadata": {},
   "outputs": [],
   "source": [
    "#visiting website\n",
    "\n",
    "url = 'https://mars.nasa.gov/news/?page=0&per_page=40&order=publish_date+desc%2Ccreated_at+desc&search=&category=19%2C165%2C184%2C204&blank_scope=Latest'\n",
    "browser.visit(url)\n",
    "\n",
    "time.sleep(5)\n",
    "html = browser.html\n",
    "soup = BeautifulSoup(html, 'html.parser')"
   ]
  },
  {
   "cell_type": "code",
   "execution_count": 128,
   "metadata": {},
   "outputs": [
    {
     "name": "stdout",
     "output_type": "stream",
     "text": [
      "[<div class=\"list_text\"><div class=\"list_date\">August 12, 2020</div><div class=\"content_title\"><a href=\"/news/8735/celebrate-mars-reconnaissance-orbiters-views-from-above/\" target=\"_self\">Celebrate Mars Reconnaissance Orbiter's Views From Above</a></div><div class=\"article_teaser_body\">Marking its 15th anniversary since launch, one of the oldest spacecraft at the Red Planet has provided glimpses of dust devils, avalanches, and more.</div></div>, <div class=\"list_text\"><div class=\"list_date\">August  6, 2020</div><div class=\"content_title\"><a href=\"/news/8731/nasas-maven-observes-martian-night-sky-pulsing-in-ultraviolet-light/\" target=\"_self\">NASA's MAVEN Observes Martian Night Sky Pulsing in Ultraviolet Light</a></div><div class=\"article_teaser_body\">Vast areas of the Martian night sky pulse in ultraviolet light, according to images from NASA’s MAVEN spacecraft. The results are being used to illuminate complex circulation patterns in the Martian atmosphere.</div></div>, <div class=\"list_text\"><div class=\"list_date\">August  3, 2020</div><div class=\"content_title\"><a href=\"/news/8726/8-martian-postcards-to-celebrate-curiositys-landing-anniversary/\" target=\"_self\">8 Martian Postcards to Celebrate Curiosity's Landing Anniversary</a></div><div class=\"article_teaser_body\">The NASA rover touched down eight years ago, on Aug. 5, 2012, and will soon be joined by a second rover, Perseverance.</div></div>, <div class=\"list_text\"><div class=\"list_date\">July 30, 2020</div><div class=\"content_title\"><a href=\"/news/8724/nasa-ula-launch-mars-2020-perseverance-rover-mission-to-red-planet/\" target=\"_self\">NASA, ULA Launch Mars 2020 Perseverance Rover Mission to Red Planet</a></div><div class=\"article_teaser_body\">The agency's Mars 2020 mission is on its way. It will land at Jezero Crater in about seven months, on Feb. 18, 2021. </div></div>, <div class=\"list_text\"><div class=\"list_date\">July 28, 2020</div><div class=\"content_title\"><a href=\"/news/8723/nasas-perseverance-rover-will-carry-first-spacesuit-materials-to-mars/\" target=\"_self\">NASA's Perseverance Rover Will Carry First Spacesuit Materials to Mars</a></div><div class=\"article_teaser_body\">In a Q&amp;A, spacesuit designer Amy Ross explains how five samples, including a piece of helmet visor, will be tested aboard the rover, which is targeting a July 30 launch. </div></div>, <div class=\"list_text\"><div class=\"list_date\">July 27, 2020</div><div class=\"content_title\"><a href=\"/news/8721/a-new-video-captures-the-science-of-nasas-perseverance-mars-rover/\" target=\"_self\">A New Video Captures the Science of NASA's Perseverance Mars Rover</a></div><div class=\"article_teaser_body\">With a targeted launch date of July 30, the next robotic scientist NASA is sending to the to the Red Planet has big ambitions.</div></div>, <div class=\"list_text\"><div class=\"list_date\">July 23, 2020</div><div class=\"content_title\"><a href=\"/news/8719/nasa-invites-public-to-share-excitement-of-mars-2020-perseverance-rover-launch/\" target=\"_self\">NASA Invites Public to Share Excitement of Mars 2020 Perseverance Rover Launch</a></div><div class=\"article_teaser_body\">There are lots of ways to participate in the historic event, which is targeted for July 30.</div></div>, <div class=\"list_text\"><div class=\"list_date\">July 22, 2020</div><div class=\"content_title\"><a href=\"/news/8718/nasas-mars-perseverance-rover-passes-flight-readiness-review/\" target=\"_self\">NASA's Mars Perseverance Rover Passes Flight Readiness Review</a></div><div class=\"article_teaser_body\">​The agency's Mars 2020 mission has one more big prelaunch review – the Launch Readiness Review, on July 27.</div></div>, <div class=\"list_text\"><div class=\"list_date\">July 17, 2020</div><div class=\"content_title\"><a href=\"/news/8716/nasa-to-broadcast-mars-2020-perseverance-launch-prelaunch-activities/\" target=\"_self\">NASA to Broadcast Mars 2020 Perseverance Launch, Prelaunch Activities</a></div><div class=\"article_teaser_body\">Starting July 27, news activities will cover everything from mission engineering and science to returning samples from Mars to, of course, the launch itself.</div></div>, <div class=\"list_text\"><div class=\"list_date\">July 14, 2020</div><div class=\"content_title\"><a href=\"/news/8712/6-things-to-know-about-nasas-ingenuity-mars-helicopter/\" target=\"_self\">6 Things to Know About NASA's Ingenuity Mars Helicopter</a></div><div class=\"article_teaser_body\">The first helicopter attempting to fly on another planet is a marvel of engineering. Get up to speed with these key facts about its plans.</div></div>, <div class=\"list_text\"><div class=\"list_date\">July 10, 2020</div><div class=\"content_title\"><a href=\"/news/8710/join-nasa-for-the-launch-of-the-mars-2020-perseverance-rover/\" target=\"_self\">Join NASA for the Launch of the Mars 2020 Perseverance Rover</a></div><div class=\"article_teaser_body\">No matter where you live, choose from a menu of activities to join NASA as we \"Countdown to Mars\" and launch the Perseverance rover to the Red Planet.</div></div>, <div class=\"list_text\"><div class=\"list_date\">July  9, 2020</div><div class=\"content_title\"><a href=\"/news/8709/nasas-perseverance-rover-attached-to-atlas-v-rocket/\" target=\"_self\">NASA's Perseverance Rover Attached to Atlas V Rocket</a></div><div class=\"article_teaser_body\">Ready for its launch later in the month, the Mars-bound rover will touch terra firma no more.</div></div>, <div class=\"list_text\"><div class=\"list_date\">July  8, 2020</div><div class=\"content_title\"><a href=\"/news/8707/7-things-to-know-about-the-mars-2020-perseverance-rover-mission/\" target=\"_self\">7 Things to Know About the Mars 2020 Perseverance Rover Mission</a></div><div class=\"article_teaser_body\">NASA's next rover to the Red Planet is slated to launch no earlier than July 30. These highlights will get you up to speed on the ambitious mission.</div></div>, <div class=\"list_text\"><div class=\"list_date\">July  7, 2020</div><div class=\"content_title\"><a href=\"/news/8705/nasas-insight-flexes-its-arm-while-its-mole-hits-pause/\" target=\"_self\">NASA's InSight Flexes Its Arm While Its 'Mole' Hits Pause</a></div><div class=\"article_teaser_body\">Now that the lander's robotic arm has helped the mole get underground, it will resume science activities that have been on hold.</div></div>, <div class=\"list_text\"><div class=\"list_date\">July  6, 2020</div><div class=\"content_title\"><a href=\"/news/8704/curiosity-mars-rovers-summer-road-trip-has-begun/\" target=\"_self\">Curiosity Mars Rover's Summer Road Trip Has Begun</a></div><div class=\"article_teaser_body\">After more than a year in the \"clay-bearing unit,\" Curiosity is making a mile-long journey around some deep sand so that it can explore higher up Mount Sharp.</div></div>, <div class=\"list_text\"><div class=\"list_date\">June 23, 2020</div><div class=\"content_title\"><a href=\"/news/8699/how-nasas-mars-helicopter-will-reach-the-red-planets-surface/\" target=\"_self\">How NASA's Mars Helicopter Will Reach the Red Planet's Surface</a></div><div class=\"article_teaser_body\">The small craft will seek to prove that powered, controlled flight is possible on another planet. But just getting it onto the surface of Mars will take a whole lot of ingenuity.</div></div>, <div class=\"list_text\"><div class=\"list_date\">June 17, 2020</div><div class=\"content_title\"><a href=\"/news/8695/the-launch-is-approaching-for-nasas-next-mars-rover-perseverance/\" target=\"_self\">The Launch Is Approaching for NASA's Next Mars Rover, Perseverance</a></div><div class=\"article_teaser_body\">The Red Planet's surface has been visited by eight NASA spacecraft. The ninth will be the first that includes a roundtrip ticket in its flight plan. </div></div>, <div class=\"list_text\"><div class=\"list_date\">June 15, 2020</div><div class=\"content_title\"><a href=\"/news/8692/nasa-to-hold-mars-2020-perseverance-rover-launch-briefing/\" target=\"_self\">NASA to Hold Mars 2020 Perseverance Rover Launch Briefing</a></div><div class=\"article_teaser_body\">Learn more about the agency's next Red Planet mission during a live event on June 17.</div></div>, <div class=\"list_text\"><div class=\"list_date\">June 15, 2020</div><div class=\"content_title\"><a href=\"/news/8691/while-stargazing-on-mars-nasas-curiosity-rover-spots-earth-and-venus/\" target=\"_self\">While Stargazing on Mars, NASA's Curiosity Rover Spots Earth and Venus</a></div><div class=\"article_teaser_body\">This new portrait of the Red Planet's neighbors was taken during a time when there's more dust in the air on Mars.</div></div>, <div class=\"list_text\"><div class=\"list_date\">June 12, 2020</div><div class=\"content_title\"><a href=\"/news/8689/nasas-mars-rover-drivers-need-your-help/\" target=\"_self\">NASA's Mars Rover Drivers Need Your Help</a></div><div class=\"article_teaser_body\">Using an online tool to label Martian terrain types, you can train an artificial intelligence algorithm that could improve the way engineers guide the Curiosity rover.</div></div>, <div class=\"list_text\"><div class=\"list_date\">June  8, 2020</div><div class=\"content_title\"><a href=\"/news/8687/three-new-views-of-mars-moon-phobos/\" target=\"_self\">Three New Views of Mars' Moon Phobos</a></div><div class=\"article_teaser_body\">Taken with the infrared camera aboard NASA's Odyssey orbiter, they reveal temperature variations on the small moon as it drifts into and out of Mars’ shadow.</div></div>, <div class=\"list_text\"><div class=\"list_date\">June  2, 2020</div><div class=\"content_title\"><a href=\"/news/8682/the-extraordinary-sample-gathering-system-of-nasas-perseverance-mars-rover/\" target=\"_self\">The Extraordinary Sample-Gathering System of NASA's Perseverance Mars Rover</a></div><div class=\"article_teaser_body\">Two astronauts collected Moon rocks on Apollo 11. It will take three robotic systems working together to gather up the first Mars rock samples for return to Earth.</div></div>, <div class=\"list_text\"><div class=\"list_date\">May 26, 2020</div><div class=\"content_title\"><a href=\"/news/8678/the-detective-aboard-nasas-perseverance-rover/\" target=\"_self\">The Detective Aboard NASA's Perseverance Rover</a></div><div class=\"article_teaser_body\">An instrument called SHERLOC will, with the help of its partner WATSON, hunt for signs of ancient life by detecting organic molecules and minerals.</div></div>, <div class=\"list_text\"><div class=\"list_date\">May 25, 2020</div><div class=\"content_title\"><a href=\"/news/8680/maven-maps-electric-currents-around-mars-that-are-fundamental-to-atmospheric-loss/\" target=\"_self\">MAVEN Maps Electric Currents around Mars that are Fundamental to Atmospheric Loss</a></div><div class=\"article_teaser_body\">Five years after NASA’s MAVEN spacecraft entered into orbit around Mars, data from the mission has led to the creation of a map of electric current systems in the Martian atmosphere.</div></div>, <div class=\"list_text\"><div class=\"list_date\">May 21, 2020</div><div class=\"content_title\"><a href=\"/news/8677/air-deliveries-bring-nasas-perseverance-mars-rover-closer-to-launch/\" target=\"_self\">Air Deliveries Bring NASA's Perseverance Mars Rover Closer to Launch</a></div><div class=\"article_teaser_body\">A NASA Wallops Flight Facility cargo plane transported more than two tons of equipment — including the rover's sample collection tubes — to Florida for this summer's liftoff.</div></div>, <div class=\"list_text\"><div class=\"list_date\">May 19, 2020</div><div class=\"content_title\"><a href=\"/news/8675/nasa-wins-4-webbys-4-peoples-voice-awards/\" target=\"_self\">NASA Wins 4 Webbys, 4 People's Voice Awards</a></div><div class=\"article_teaser_body\">Winners include the JPL-managed \"Send Your Name to Mars\" campaign, NASA's Global Climate Change website and Solar System Interactive.</div></div>, <div class=\"list_text\"><div class=\"list_date\">May 18, 2020</div><div class=\"content_title\"><a href=\"/news/8671/nasas-perseverance-rover-goes-through-trials-by-fire-ice-light-and-sound/\" target=\"_self\">NASA's Perseverance Rover Goes Through Trials by Fire, Ice, Light and Sound</a></div><div class=\"article_teaser_body\">The agency's new Mars rover is put through a series of tests in vacuum chambers, acoustic chambers and more to get ready for the Red Planet.</div></div>, <div class=\"list_text\"><div class=\"list_date\">May  7, 2020</div><div class=\"content_title\"><a href=\"/news/8657/nasas-perseverance-rover-mission-getting-in-shape-for-launch/\" target=\"_self\">NASA's Perseverance Rover Mission Getting in Shape for Launch</a></div><div class=\"article_teaser_body\">Stacking spacecraft components on top of each other is one of the final assembly steps before a mission launches to the Red Planet. </div></div>, <div class=\"list_text\"><div class=\"list_date\">May  6, 2020</div><div class=\"content_title\"><a href=\"/news/8666/nasa-perseverance-mars-rover-scientists-train-in-the-nevada-desert/\" target=\"_self\">NASA Perseverance Mars Rover Scientists Train in the Nevada Desert</a></div><div class=\"article_teaser_body\">Team members searched for signs of ancient microscopic life there, just as NASA's latest rover will on the Red Planet next year.</div></div>, <div class=\"list_text\"><div class=\"list_date\">May  1, 2020</div><div class=\"content_title\"><a href=\"/news/8663/nasas-perseverance-rover-will-look-at-mars-through-these-eyes/\" target=\"_self\">NASA's Perseverance Rover Will Look at Mars Through These 'Eyes'</a></div><div class=\"article_teaser_body\">A pair of zoomable cameras will help scientists and rover drivers with high-resolution color images.</div></div>, <div class=\"list_text\"><div class=\"list_date\">April 30, 2020</div><div class=\"content_title\"><a href=\"/news/8662/meet-the-people-behind-nasas-perseverance-rover/\" target=\"_self\">Meet the People Behind NASA's Perseverance Rover</a></div><div class=\"article_teaser_body\">These are the scientists and engineers who built NASA's next Mars rover and who will guide it to a safe landing in Jezero Crater. </div></div>, <div class=\"list_text\"><div class=\"list_date\">April 29, 2020</div><div class=\"content_title\"><a href=\"/news/8660/qa-with-the-student-who-named-ingenuity-nasas-mars-helicopter/\" target=\"_self\">Q&amp;A with the Student Who Named Ingenuity, NASA's Mars Helicopter</a></div><div class=\"article_teaser_body\">As a longtime fan of space exploration, Vaneeza Rupani appreciates the creativity and collaboration involved with trying to fly on another planet.</div></div>, <div class=\"list_text\"><div class=\"list_date\">April 29, 2020</div><div class=\"content_title\"><a href=\"/news/8659/alabama-high-school-student-names-nasas-mars-helicopter/\" target=\"_self\">Alabama High School Student Names NASA's Mars Helicopter</a></div><div class=\"article_teaser_body\">Vaneeza Rupani's essay was chosen as the name for the small spacecraft, which will mark NASA's first attempt at powered flight on another planet.</div></div>, <div class=\"list_text\"><div class=\"list_date\">April 21, 2020</div><div class=\"content_title\"><a href=\"/news/8654/how-nasas-perseverance-mars-team-adjusted-to-work-in-the-time-of-coronavirus/\" target=\"_self\">How NASA's Perseverance Mars Team Adjusted to Work in the Time of Coronavirus </a></div><div class=\"article_teaser_body\">Like much of the rest of the world, the Mars rover team is pushing forward with its mission-critical work while putting the health and safety of their colleagues and community first.</div></div>, <div class=\"list_text\"><div class=\"list_date\">April 20, 2020</div><div class=\"content_title\"><a href=\"/news/8649/nasas-perseverance-mars-rover-gets-balanced/\" target=\"_self\">NASA's Perseverance Mars Rover Gets Balanced</a></div><div class=\"article_teaser_body\">The mission team performed a crucial weight-balancing test on the rover in preparation for this summer's history-making launch to the Red Planet.</div></div>, <div class=\"list_text\"><div class=\"list_date\">April 13, 2020</div><div class=\"content_title\"><a href=\"/news/8647/nasas-curiosity-keeps-rolling-as-team-operates-rover-from-home/\" target=\"_self\">NASA's Curiosity Keeps Rolling As Team Operates Rover From Home</a></div><div class=\"article_teaser_body\">The team has learned to meet new challenges as they work remotely on the Mars mission.</div></div>, <div class=\"list_text\"><div class=\"list_date\">April 10, 2020</div><div class=\"content_title\"><a href=\"/news/8645/mars-helicopter-attached-to-nasas-perseverance-rover/\" target=\"_self\">Mars Helicopter Attached to NASA's Perseverance Rover</a></div><div class=\"article_teaser_body\">The team also fueled the rover's sky crane to get ready for this summer's history-making launch.</div></div>, <div class=\"list_text\"><div class=\"list_date\">April  3, 2020</div><div class=\"content_title\"><a href=\"/news/8641/nasas-perseverance-mars-rover-gets-its-wheels-and-air-brakes/\" target=\"_self\">NASA's Perseverance Mars Rover Gets Its Wheels and Air Brakes</a></div><div class=\"article_teaser_body\">After the rover was shipped from JPL to Kennedy Space Center, the team is getting closer to finalizing the spacecraft for launch later this summer.</div></div>, <div class=\"list_text\"><div class=\"list_date\">April  1, 2020</div><div class=\"content_title\"><a href=\"/news/8639/the-man-who-wanted-to-fly-on-mars/\" target=\"_self\">The Man Who Wanted to Fly on Mars</a></div><div class=\"article_teaser_body\">The Mars Helicopter is riding to the Red Planet this summer with NASA's Perseverance rover. The helicopter's chief engineer, Bob Balaram, shares the saga of how it came into being.</div></div>, <div class=\"list_text\"><div class=\"list_date\">March 26, 2020</div><div class=\"content_title\"><a href=\"/news/8634/109-million-names-now-aboard-nasas-perseverance-mars-rover/\" target=\"_self\">10.9 Million Names Now Aboard NASA's Perseverance Mars Rover</a></div><div class=\"article_teaser_body\">As part of NASA's 'Send Your Name to Mars' campaign, they've been stenciled onto three microchips along with essays from NASA's 'Name the Rover' contest. Next stop: Mars.</div></div>]\n"
     ]
    }
   ],
   "source": [
    "results = soup.find_all('div', class_='list_text')\n",
    "print(results)"
   ]
  },
  {
   "cell_type": "code",
   "execution_count": 135,
   "metadata": {},
   "outputs": [
    {
     "name": "stdout",
     "output_type": "stream",
     "text": [
      "As part of NASA's 'Send Your Name to Mars' campaign, they've been stenciled onto three microchips along with essays from NASA's 'Name the Rover' contest. Next stop: Mars.\n",
      "{'news_title': \"10.9 Million Names Now Aboard NASA's Perseverance Mars Rover\", 'paragraph_text': \"As part of NASA's 'Send Your Name to Mars' campaign, they've been stenciled onto three microchips along with essays from NASA's 'Name the Rover' contest. Next stop: Mars.\"}\n"
     ]
    }
   ],
   "source": [
    "#Gathering NASA Mars News\n",
    "# Retrieve the thread title\n",
    "title = result.find('div', class_='content_title')\n",
    "    \n",
    "    \n",
    "# Extract the title text\n",
    "news_title = title.a.text\n",
    "    \n",
    "#Extract the paragraph text\n",
    "news_p = result.find('div', class_='article_teaser_body').text\n",
    "print(news_p)\n",
    "\n",
    "# Dictionary to be inserted as a MongoDB document\n",
    "mars = {\n",
    "    'news_title': news_title,\n",
    "    'paragraph_text': news_p,\n",
    "}\n",
    "\n",
    "#collection.insert_one(mars)\n",
    "print(mars)"
   ]
  },
  {
   "cell_type": "code",
   "execution_count": 118,
   "metadata": {},
   "outputs": [],
   "source": [
    "#Gathering JPL Mars Space Images\n",
    "url2 = 'https://www.jpl.nasa.gov/spaceimages/?search=&category=Mars'\n",
    "\n",
    "#splinter method\n",
    "browser.visit(url2)\n",
    "\n",
    "time.sleep(5)\n",
    "html = browser.html\n",
    "soup = BeautifulSoup(html, 'html.parser')\n"
   ]
  },
  {
   "cell_type": "code",
   "execution_count": 103,
   "metadata": {},
   "outputs": [],
   "source": [
    "#clicking 'full image'\n",
    "browser.click_link_by_id(\"full_image\")\n"
   ]
  },
  {
   "cell_type": "code",
   "execution_count": 104,
   "metadata": {},
   "outputs": [],
   "source": [
    "html = browser.html\n",
    "soup = BeautifulSoup(html, 'html.parser')"
   ]
  },
  {
   "cell_type": "code",
   "execution_count": 105,
   "metadata": {},
   "outputs": [
    {
     "data": {
      "text/plain": [
       "'/spaceimages/details.php?id=PIA18284 '"
      ]
     },
     "execution_count": 105,
     "metadata": {},
     "output_type": "execute_result"
    }
   ],
   "source": [
    "#Getting suffix\n",
    "results = soup.find('a', class_ = 'button', target = \"_top\")\n",
    "partial_href = results['href']\n",
    "partial_href\n",
    "\n",
    "browser.click_link_by_partial_href(partial_href)"
   ]
  },
  {
   "cell_type": "code",
   "execution_count": 106,
   "metadata": {},
   "outputs": [],
   "source": [
    "#Clicking 'more info'\n",
    "browser.click_link_by_partial_href(partial_href)"
   ]
  },
  {
   "cell_type": "code",
   "execution_count": 107,
   "metadata": {},
   "outputs": [],
   "source": [
    "html = browser.html\n",
    "soup = BeautifulSoup(html, 'html.parser')"
   ]
  },
  {
   "cell_type": "code",
   "execution_count": 111,
   "metadata": {},
   "outputs": [
    {
     "name": "stdout",
     "output_type": "stream",
     "text": [
      "['https://www.jpl.nasa.gov', 'spaceimages', '']\n",
      "/spaceimages/images/largesize/PIA18284_hires.jpg\n"
     ]
    },
    {
     "data": {
      "text/plain": [
       "'https://www.jpl.nasa.gov/spaceimages/images/largesize/PIA18284_hires.jpg'"
      ]
     },
     "execution_count": 111,
     "metadata": {},
     "output_type": "execute_result"
    }
   ],
   "source": [
    "#Getting beginning of url\n",
    "url_head = url2.split('?')\n",
    "url_head2 = url_head[0].rsplit('/', maxsplit = 2)\n",
    "print(url_head2)\n",
    "\n",
    "\n",
    "#Getting end of url\n",
    "results = soup.find('figure', class_ = \"lede\")\n",
    "link = results.find('a')\n",
    "partial_href = link['href']\n",
    "print(partial_href)\n",
    "\n",
    "\n",
    "#combining beginning with end to get full url\n",
    "featured_image_url = url_head2[0] + partial_href\n",
    "featured_image_url"
   ]
  },
  {
   "cell_type": "code",
   "execution_count": null,
   "metadata": {},
   "outputs": [],
   "source": [
    "#Next section"
   ]
  },
  {
   "cell_type": "code",
   "execution_count": 147,
   "metadata": {},
   "outputs": [],
   "source": [
    "#Mars Weather Twitter\n",
    "url = 'https://twitter.com/marswxreport?lang=en'\n",
    "\n",
    "\n",
    "\n",
    "#splinter method\n",
    "browser.visit(url)\n",
    "\n",
    "#time.sleep(10)\n",
    "html = browser.html\n",
    "soup = BeautifulSoup(html, 'lxml')"
   ]
  },
  {
   "cell_type": "code",
   "execution_count": 148,
   "metadata": {},
   "outputs": [
    {
     "name": "stdout",
     "output_type": "stream",
     "text": [
      "[]\n"
     ]
    }
   ],
   "source": [
    "results = soup.find_all('div', {'class':'css-901oao css-16my406 r-1qd0xha r-ad9z0x r-bcqeeo r-qvutc0'})\n",
    "#results = soup.find('div', {'class':'css-901oao r-hkyrab r-1qd0xha r-a023e6 r-16dba41 r-ad9z0x r-bcqeeo r-bnwqim r-qvutc0'})\n",
    "\n",
    "results = soup.find_all('div', {'class':'css-901oao css-16my406 r-1qd0xha r-ad9z0x r-bcqeeo r-qvutc0'})\n",
    "print(results)\n",
    "#mars_weather = tweet.text"
   ]
  },
  {
   "cell_type": "code",
   "execution_count": 117,
   "metadata": {},
   "outputs": [],
   "source": [
    "#Mars Facts Table\n",
    "url = 'https://space-facts.com/mars/'\n",
    "\n",
    "\n",
    "browser.visit(url)\n",
    "\n",
    "time.sleep(5)\n",
    "html = browser.html\n",
    "soup = BeautifulSoup(html, 'html.parser')"
   ]
  },
  {
   "cell_type": "code",
   "execution_count": null,
   "metadata": {},
   "outputs": [],
   "source": []
  },
  {
   "cell_type": "code",
   "execution_count": null,
   "metadata": {},
   "outputs": [],
   "source": []
  },
  {
   "cell_type": "code",
   "execution_count": null,
   "metadata": {},
   "outputs": [],
   "source": [
    "#Documentation\n",
    "#https://splinter.readthedocs.io/en/latest/elements-in-the-page.html"
   ]
  },
  {
   "cell_type": "code",
   "execution_count": 122,
   "metadata": {},
   "outputs": [],
   "source": [
    "#Getting Mars Hemispheres data\n",
    "url = 'https://astrogeology.usgs.gov/search/results?q=hemisphere+enhanced&k1=target&v1=Mars'\n",
    "\n",
    "\n",
    "browser.visit(url)\n",
    "\n",
    "time.sleep(5)\n",
    "html = browser.html\n",
    "soup = BeautifulSoup(html, 'html.parser')"
   ]
  },
  {
   "cell_type": "code",
   "execution_count": 123,
   "metadata": {},
   "outputs": [
    {
     "name": "stdout",
     "output_type": "stream",
     "text": [
      "['https://astrogeology.usgs.gov/search/map/Mars/Viking/cerberus_enhanced', 'https://astrogeology.usgs.gov/search/map/Mars/Viking/schiaparelli_enhanced', 'https://astrogeology.usgs.gov/search/map/Mars/Viking/syrtis_major_enhanced', 'https://astrogeology.usgs.gov/search/map/Mars/Viking/valles_marineris_enhanced']\n"
     ]
    }
   ],
   "source": [
    "#For loop method\n",
    "results = soup.find_all('div', class_ = 'item')\n",
    "\n",
    "#Establishing dictionaries\n",
    "url_suffix = []\n",
    "title = []\n",
    "hemis_links = []\n",
    "hemis_img = []\n",
    "\n",
    "#Getting the title of each page, part of the link to get into each page\n",
    "for result in results:\n",
    "    url_suffix.append(result.find('a', class_ = 'itemLink product-item')['href'])\n",
    "    title.append(result.find('h3').text)\n",
    "    \n",
    "#Calculating the prefix for the link\n",
    "url_head = url.split('?')\n",
    "url_head2 = url_head[0].rsplit('/', maxsplit = 2)\n",
    "prefix = url_head2[0]\n",
    "\n",
    "\n",
    "#Creating the link for all 4 hemisphere pages\n",
    "hemis_links = [prefix + suffix for suffix in url_suffix]\n",
    "print(hemis_links)\n",
    "\n",
    "#titles_and_urls = zip(title, hemis_links)\n",
    "\n",
    "#Getting the image of all 4 hemispheres\n",
    "try:\n",
    "    for link in hemis_links:\n",
    "        browser.visit(link)\n",
    "        time.sleep(5)\n",
    "        html = browser.html\n",
    "        soup = BeautifulSoup(html, 'html.parser')\n",
    "        img = soup.find_all('a', target = \"_blank\")[3]\n",
    "        hemis_img.append(img['href'])\n",
    "        browser.back()\n",
    "except ElementDoesNotExist:\n",
    "    print(\"Scraping Complete\")\n",
    "                                                \n",
    "                                        \n",
    "    "
   ]
  },
  {
   "cell_type": "code",
   "execution_count": 125,
   "metadata": {},
   "outputs": [
    {
     "name": "stdout",
     "output_type": "stream",
     "text": [
      "['Cerberus Hemisphere Enhanced', 'Schiaparelli Hemisphere Enhanced', 'Syrtis Major Hemisphere Enhanced', 'Valles Marineris Hemisphere Enhanced']\n"
     ]
    }
   ],
   "source": [
    "print(title)"
   ]
  },
  {
   "cell_type": "code",
   "execution_count": 124,
   "metadata": {},
   "outputs": [
    {
     "name": "stdout",
     "output_type": "stream",
     "text": [
      "['https://astropedia.astrogeology.usgs.gov/download/Mars/Viking/cerberus_enhanced.tif/full.jpg', 'https://astropedia.astrogeology.usgs.gov/download/Mars/Viking/schiaparelli_enhanced.tif/full.jpg', 'https://astropedia.astrogeology.usgs.gov/download/Mars/Viking/syrtis_major_enhanced.tif/full.jpg', 'https://astropedia.astrogeology.usgs.gov/download/Mars/Viking/valles_marineris_enhanced.tif/full.jpg']\n"
     ]
    }
   ],
   "source": [
    "print(hemis_img)"
   ]
  },
  {
   "cell_type": "code",
   "execution_count": 93,
   "metadata": {},
   "outputs": [
    {
     "name": "stdout",
     "output_type": "stream",
     "text": [
      "Cerberus Hemisphere Enhanced\n",
      "/search/map/Mars/Viking/cerberus_enhanced\n"
     ]
    }
   ],
   "source": [
    "#Cerberus\n",
    "results = soup.find_all('a', class_ = 'itemLink product-item')[1]\n",
    "cerb_title = results.find('h3').text\n",
    "print(cerb_title)\n",
    "\n",
    "\n",
    "\n",
    "#Extracting 1st half of link\n",
    "url_head = url.split('?')\n",
    "url_head2 = url_head[0].rsplit('/', maxsplit = 2)\n",
    "#print(url_head2)\n",
    "\n",
    "#Extracting 2nd half of link\n",
    "results = soup.find('a', class_ = 'itemLink product-item')\n",
    "partial_href = results['href']\n",
    "print(partial_href)\n",
    "\n",
    "\n",
    "#Combining to create clickable link\n",
    "url = url_head2[0] + partial_href\n",
    "#print(url)\n",
    "\n",
    "\n"
   ]
  },
  {
   "cell_type": "code",
   "execution_count": 94,
   "metadata": {},
   "outputs": [],
   "source": [
    "#Clicking the link\n",
    "browser.visit(url)\n",
    "\n",
    "time.sleep(5)\n",
    "\n",
    "html = browser.html\n",
    "soup = BeautifulSoup(html, 'html.parser')\n",
    "\n",
    "\n",
    "#Clicking open\n",
    "results = soup.find_all('a', target = \"_blank\")[3]\n",
    "\n",
    "print(results)\n",
    "results['href']\n",
    "\n",
    "\n"
   ]
  },
  {
   "cell_type": "code",
   "execution_count": 97,
   "metadata": {},
   "outputs": [
    {
     "name": "stdout",
     "output_type": "stream",
     "text": [
      "<a href=\"https://astropedia.astrogeology.usgs.gov/download/Mars/Viking/cerberus_enhanced.tif/full.jpg\" target=\"_blank\">Sample</a>\n"
     ]
    },
    {
     "data": {
      "text/plain": [
       "'https://astropedia.astrogeology.usgs.gov/download/Mars/Viking/cerberus_enhanced.tif/full.jpg'"
      ]
     },
     "execution_count": 97,
     "metadata": {},
     "output_type": "execute_result"
    }
   ],
   "source": [
    "#Clicking open\n",
    "results = soup.find_all('a', target = \"_blank\")[3]\n",
    "\n",
    "print(results)\n",
    "results['href']\n"
   ]
  },
  {
   "cell_type": "code",
   "execution_count": 61,
   "metadata": {},
   "outputs": [
    {
     "name": "stdout",
     "output_type": "stream",
     "text": [
      "[]\n"
     ]
    }
   ],
   "source": [
    "results = soup.find_all('div', class_ = 'downloads', target = '_blank')\n",
    "print(results)"
   ]
  },
  {
   "cell_type": "code",
   "execution_count": 53,
   "metadata": {},
   "outputs": [
    {
     "name": "stdout",
     "output_type": "stream",
     "text": [
      "None\n"
     ]
    }
   ],
   "source": [
    "#Getting beginning of url\n",
    "url_head = url.split('?')\n",
    "url_head2 = url_head[0].rsplit('/', maxsplit = 2)\n",
    "#print(url_head2)\n",
    "\n",
    "\n",
    "#Getting end of url\n",
    "results = soup.find('img', class_ = \"wide-image\")\n",
    "print(results)\n",
    "# link = results.find('a')\n",
    "# partial_href = link['href']\n",
    "# print(partial_href)\n",
    "\n",
    "\n",
    "#combining beginning with end to get full url\n",
    "featured_image_url = url_head2[0] + partial_href\n",
    "#featured_image_url"
   ]
  },
  {
   "cell_type": "code",
   "execution_count": null,
   "metadata": {},
   "outputs": [],
   "source": [
    "#browser.find_by_name('send').first.click()"
   ]
  },
  {
   "cell_type": "code",
   "execution_count": null,
   "metadata": {},
   "outputs": [],
   "source": [
    "#Going back to home page, repeating the process\n",
    "browser.back()"
   ]
  },
  {
   "cell_type": "code",
   "execution_count": 39,
   "metadata": {},
   "outputs": [
    {
     "data": {
      "text/plain": [
       "'/search/map/Mars/Viking/schiaparelli_enhanced'"
      ]
     },
     "execution_count": 39,
     "metadata": {},
     "output_type": "execute_result"
    }
   ],
   "source": [
    "results = soup.find_all('a', class_ = 'itemLink product-item')[2]\n",
    "partial_href = results['href']\n",
    "partial_href"
   ]
  },
  {
   "cell_type": "code",
   "execution_count": 40,
   "metadata": {},
   "outputs": [
    {
     "name": "stdout",
     "output_type": "stream",
     "text": [
      "Schiaparelli Hemisphere Enhanced\n"
     ]
    }
   ],
   "source": [
    "#Schiaparelli\n",
    "\n",
    "#Extracting Title 1\n",
    "results = soup.find_all('a', class_ = 'itemLink product-item')[3]\n",
    "schia_title = results.find('h3').text\n",
    "print(schia_title)\n",
    "\n",
    "\n",
    "\n",
    "#Extracting 1st half of link\n",
    "url_head = url.split('?')\n",
    "url_head2 = url_head[0].rsplit('/', maxsplit = 2)\n",
    "url_head2\n",
    "\n",
    "#Extracting 2nd half of link\n",
    "results = soup.find_all('a', class_ = 'itemLink product-item')[2]\n",
    "partial_href = results['href']\n",
    "partial_href\n",
    "\n",
    "\n",
    "#Combining to create clickable link\n",
    "url = url_head2[0] + partial_href\n",
    "url\n",
    "\n",
    "\n",
    "#Clicking the link\n",
    "browser.visit(url)"
   ]
  },
  {
   "cell_type": "code",
   "execution_count": null,
   "metadata": {},
   "outputs": [],
   "source": [
    "#Going back to home page, repeating the process\n",
    "browser.back()"
   ]
  },
  {
   "cell_type": "code",
   "execution_count": 44,
   "metadata": {},
   "outputs": [
    {
     "name": "stdout",
     "output_type": "stream",
     "text": [
      "Syrtis Major Hemisphere Enhanced\n"
     ]
    },
    {
     "ename": "ElementDoesNotExist",
     "evalue": "no elements could be found with id \"wide-image-toggle\"",
     "output_type": "error",
     "traceback": [
      "\u001b[1;31m---------------------------------------------------------------------------\u001b[0m",
      "\u001b[1;31mIndexError\u001b[0m                                Traceback (most recent call last)",
      "\u001b[1;32m~\\Anaconda3\\envs\\PythonData\\lib\\site-packages\\splinter\\element_list.py\u001b[0m in \u001b[0;36m__getitem__\u001b[1;34m(self, index)\u001b[0m\n\u001b[0;32m     41\u001b[0m         \u001b[1;32mtry\u001b[0m\u001b[1;33m:\u001b[0m\u001b[1;33m\u001b[0m\u001b[1;33m\u001b[0m\u001b[0m\n\u001b[1;32m---> 42\u001b[1;33m             \u001b[1;32mreturn\u001b[0m \u001b[0mself\u001b[0m\u001b[1;33m.\u001b[0m\u001b[0m_container\u001b[0m\u001b[1;33m[\u001b[0m\u001b[0mindex\u001b[0m\u001b[1;33m]\u001b[0m\u001b[1;33m\u001b[0m\u001b[1;33m\u001b[0m\u001b[0m\n\u001b[0m\u001b[0;32m     43\u001b[0m         \u001b[1;32mexcept\u001b[0m \u001b[0mIndexError\u001b[0m\u001b[1;33m:\u001b[0m\u001b[1;33m\u001b[0m\u001b[1;33m\u001b[0m\u001b[0m\n",
      "\u001b[1;31mIndexError\u001b[0m: list index out of range",
      "\nDuring handling of the above exception, another exception occurred:\n",
      "\u001b[1;31mElementDoesNotExist\u001b[0m                       Traceback (most recent call last)",
      "\u001b[1;32m<ipython-input-44-77710f5a2fda>\u001b[0m in \u001b[0;36m<module>\u001b[1;34m\u001b[0m\n\u001b[0;32m     26\u001b[0m \u001b[1;31m#browser.visit(url)\u001b[0m\u001b[1;33m\u001b[0m\u001b[1;33m\u001b[0m\u001b[1;33m\u001b[0m\u001b[0m\n\u001b[0;32m     27\u001b[0m \u001b[1;33m\u001b[0m\u001b[0m\n\u001b[1;32m---> 28\u001b[1;33m \u001b[0mbrowser\u001b[0m\u001b[1;33m.\u001b[0m\u001b[0mclick_link_by_id\u001b[0m\u001b[1;33m(\u001b[0m\u001b[1;34m\"wide-image-toggle\"\u001b[0m\u001b[1;33m)\u001b[0m\u001b[1;33m\u001b[0m\u001b[1;33m\u001b[0m\u001b[0m\n\u001b[0m\u001b[0;32m     29\u001b[0m \u001b[1;33m\u001b[0m\u001b[0m\n",
      "\u001b[1;32m~\\Anaconda3\\envs\\PythonData\\lib\\site-packages\\splinter\\driver\\__init__.py\u001b[0m in \u001b[0;36mclick_link_by_id\u001b[1;34m(self, id)\u001b[0m\n\u001b[0;32m    400\u001b[0m         \u001b[0mClicks\u001b[0m \u001b[1;32min\u001b[0m \u001b[0ma\u001b[0m \u001b[0mlink\u001b[0m \u001b[0mby\u001b[0m \u001b[0mid\u001b[0m\u001b[1;33m.\u001b[0m\u001b[1;33m\u001b[0m\u001b[1;33m\u001b[0m\u001b[0m\n\u001b[0;32m    401\u001b[0m         \"\"\"\n\u001b[1;32m--> 402\u001b[1;33m         \u001b[1;32mreturn\u001b[0m \u001b[0mself\u001b[0m\u001b[1;33m.\u001b[0m\u001b[0mfind_by_id\u001b[0m\u001b[1;33m(\u001b[0m\u001b[0mid\u001b[0m\u001b[1;33m)\u001b[0m\u001b[1;33m.\u001b[0m\u001b[0mfirst\u001b[0m\u001b[1;33m.\u001b[0m\u001b[0mclick\u001b[0m\u001b[1;33m(\u001b[0m\u001b[1;33m)\u001b[0m\u001b[1;33m\u001b[0m\u001b[1;33m\u001b[0m\u001b[0m\n\u001b[0m\u001b[0;32m    403\u001b[0m \u001b[1;33m\u001b[0m\u001b[0m\n\u001b[0;32m    404\u001b[0m     \u001b[1;32mdef\u001b[0m \u001b[0mquit\u001b[0m\u001b[1;33m(\u001b[0m\u001b[0mself\u001b[0m\u001b[1;33m)\u001b[0m\u001b[1;33m:\u001b[0m\u001b[1;33m\u001b[0m\u001b[1;33m\u001b[0m\u001b[0m\n",
      "\u001b[1;32m~\\Anaconda3\\envs\\PythonData\\lib\\site-packages\\splinter\\element_list.py\u001b[0m in \u001b[0;36mfirst\u001b[1;34m(self)\u001b[0m\n\u001b[0;32m     55\u001b[0m             \u001b[1;33m>>\u001b[0m\u001b[1;33m>\u001b[0m \u001b[1;32massert\u001b[0m \u001b[0melement_list\u001b[0m\u001b[1;33m[\u001b[0m\u001b[1;36m0\u001b[0m\u001b[1;33m]\u001b[0m \u001b[1;33m==\u001b[0m \u001b[0melement_list\u001b[0m\u001b[1;33m.\u001b[0m\u001b[0mfirst\u001b[0m\u001b[1;33m\u001b[0m\u001b[1;33m\u001b[0m\u001b[0m\n\u001b[0;32m     56\u001b[0m         \"\"\"\n\u001b[1;32m---> 57\u001b[1;33m         \u001b[1;32mreturn\u001b[0m \u001b[0mself\u001b[0m\u001b[1;33m[\u001b[0m\u001b[1;36m0\u001b[0m\u001b[1;33m]\u001b[0m\u001b[1;33m\u001b[0m\u001b[1;33m\u001b[0m\u001b[0m\n\u001b[0m\u001b[0;32m     58\u001b[0m \u001b[1;33m\u001b[0m\u001b[0m\n\u001b[0;32m     59\u001b[0m     \u001b[1;33m@\u001b[0m\u001b[0mproperty\u001b[0m\u001b[1;33m\u001b[0m\u001b[1;33m\u001b[0m\u001b[0m\n",
      "\u001b[1;32m~\\Anaconda3\\envs\\PythonData\\lib\\site-packages\\splinter\\element_list.py\u001b[0m in \u001b[0;36m__getitem__\u001b[1;34m(self, index)\u001b[0m\n\u001b[0;32m     44\u001b[0m             raise ElementDoesNotExist(\n\u001b[0;32m     45\u001b[0m                 u'no elements could be found with {0} \"{1}\"'.format(\n\u001b[1;32m---> 46\u001b[1;33m                     \u001b[0mself\u001b[0m\u001b[1;33m.\u001b[0m\u001b[0mfind_by\u001b[0m\u001b[1;33m,\u001b[0m \u001b[0mself\u001b[0m\u001b[1;33m.\u001b[0m\u001b[0mquery\u001b[0m\u001b[1;33m\u001b[0m\u001b[1;33m\u001b[0m\u001b[0m\n\u001b[0m\u001b[0;32m     47\u001b[0m                 )\n\u001b[0;32m     48\u001b[0m             )\n",
      "\u001b[1;31mElementDoesNotExist\u001b[0m: no elements could be found with id \"wide-image-toggle\""
     ]
    }
   ],
   "source": [
    "#Syrtis Major\n",
    "\n",
    "#Extracting Title 1\n",
    "results = soup.find_all('a', class_ = 'itemLink product-item')[5]\n",
    "syrtis_title = results.find('h3').text\n",
    "print(syrtis_title)\n",
    "\n",
    "\n",
    "\n",
    "#Extracting 1st half of link\n",
    "url_head = url.split('?')\n",
    "url_head2 = url_head[0].rsplit('/', maxsplit = 2)\n",
    "url_head2\n",
    "\n",
    "#Extracting 2nd half of link\n",
    "results = soup.find_all('a', class_ = 'itemLink product-item')[4]\n",
    "partial_href = results['href']\n",
    "partial_href\n",
    "\n",
    "\n",
    "#Combining to create clickable link\n",
    "url = url_head2[0] + partial_href\n",
    "url\n",
    "\n",
    "#Clicking the link\n",
    "browser.visit(url)"
   ]
  },
  {
   "cell_type": "code",
   "execution_count": 46,
   "metadata": {},
   "outputs": [],
   "source": [
    "#Going back to home page, repeating the process\n",
    "browser.back()"
   ]
  },
  {
   "cell_type": "code",
   "execution_count": 48,
   "metadata": {},
   "outputs": [
    {
     "name": "stdout",
     "output_type": "stream",
     "text": [
      "Valles Marineris Hemisphere Enhanced\n"
     ]
    }
   ],
   "source": [
    "#Valles Marineris\n",
    "\n",
    "#Extracting Title 1\n",
    "results = soup.find_all('a', class_ = 'itemLink product-item')[7]\n",
    "valles_title = results.find('h3').text\n",
    "print(valles_title)\n",
    "\n",
    "\n",
    "\n",
    "#Extracting 1st half of link\n",
    "url_head = url.split('?')\n",
    "url_head2 = url_head[0].rsplit('/', maxsplit = 2)\n",
    "url_head2\n",
    "\n",
    "#Extracting 2nd half of link\n",
    "results = soup.find_all('a', class_ = 'itemLink product-item')[6]\n",
    "partial_href = results['href']\n",
    "partial_href\n",
    "\n",
    "\n",
    "#Combining to create clickable link\n",
    "url = url_head2[0] + partial_href\n",
    "url\n",
    "\n",
    "#Clicking the link\n",
    "browser.visit(url)"
   ]
  }
 ],
 "metadata": {
  "kernelspec": {
   "display_name": "Python 3",
   "language": "python",
   "name": "python3"
  },
  "language_info": {
   "codemirror_mode": {
    "name": "ipython",
    "version": 3
   },
   "file_extension": ".py",
   "mimetype": "text/x-python",
   "name": "python",
   "nbconvert_exporter": "python",
   "pygments_lexer": "ipython3",
   "version": "3.7.6"
  }
 },
 "nbformat": 4,
 "nbformat_minor": 4
}
